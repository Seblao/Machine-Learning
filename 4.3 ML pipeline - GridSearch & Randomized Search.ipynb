{
 "cells": [
  {
   "cell_type": "code",
   "execution_count": 32,
   "id": "ef837ae7-cb55-4274-92e2-5fee8135cc1d",
   "metadata": {},
   "outputs": [],
   "source": [
    "import pandas as pd\n",
    "import numpy as np\n",
    "from matplotlib import pyplot as plt\n",
    "%matplotlib inline\n",
    "import seaborn as sns\n",
    "\n",
    "from sklearn.model_selection import train_test_split, RandomizedSearchCV\n",
    "from sklearn.neighbors import KNeighborsClassifier\n",
    "from sklearn.metrics import accuracy_score\n",
    "from sklearn.preprocessing import StandardScaler\n",
    "\n",
    "from sklearn.model_selection import train_test_split, cross_val_score\n",
    "from sklearn.tree import DecisionTreeClassifier\n",
    "from scipy.stats import randint"
   ]
  },
  {
   "cell_type": "code",
   "execution_count": 23,
   "id": "3b4b3b1e-3b3e-45be-8566-3c246cacfc35",
   "metadata": {},
   "outputs": [
    {
     "data": {
      "text/html": [
       "<div>\n",
       "<style scoped>\n",
       "    .dataframe tbody tr th:only-of-type {\n",
       "        vertical-align: middle;\n",
       "    }\n",
       "\n",
       "    .dataframe tbody tr th {\n",
       "        vertical-align: top;\n",
       "    }\n",
       "\n",
       "    .dataframe thead th {\n",
       "        text-align: right;\n",
       "    }\n",
       "</style>\n",
       "<table border=\"1\" class=\"dataframe\">\n",
       "  <thead>\n",
       "    <tr style=\"text-align: right;\">\n",
       "      <th></th>\n",
       "      <th>Survived</th>\n",
       "      <th>Pclass</th>\n",
       "      <th>Name</th>\n",
       "      <th>Sex</th>\n",
       "      <th>Age</th>\n",
       "      <th>Siblings/Spouses Aboard</th>\n",
       "      <th>Parents/Children Aboard</th>\n",
       "      <th>Fare</th>\n",
       "    </tr>\n",
       "  </thead>\n",
       "  <tbody>\n",
       "    <tr>\n",
       "      <th>0</th>\n",
       "      <td>0</td>\n",
       "      <td>3</td>\n",
       "      <td>Mr. Owen Harris Braund</td>\n",
       "      <td>male</td>\n",
       "      <td>22.0</td>\n",
       "      <td>1</td>\n",
       "      <td>0</td>\n",
       "      <td>7.2500</td>\n",
       "    </tr>\n",
       "    <tr>\n",
       "      <th>1</th>\n",
       "      <td>1</td>\n",
       "      <td>1</td>\n",
       "      <td>Mrs. John Bradley (Florence Briggs Thayer) Cum...</td>\n",
       "      <td>female</td>\n",
       "      <td>38.0</td>\n",
       "      <td>1</td>\n",
       "      <td>0</td>\n",
       "      <td>71.2833</td>\n",
       "    </tr>\n",
       "    <tr>\n",
       "      <th>2</th>\n",
       "      <td>1</td>\n",
       "      <td>3</td>\n",
       "      <td>Miss. Laina Heikkinen</td>\n",
       "      <td>female</td>\n",
       "      <td>26.0</td>\n",
       "      <td>0</td>\n",
       "      <td>0</td>\n",
       "      <td>7.9250</td>\n",
       "    </tr>\n",
       "    <tr>\n",
       "      <th>3</th>\n",
       "      <td>1</td>\n",
       "      <td>1</td>\n",
       "      <td>Mrs. Jacques Heath (Lily May Peel) Futrelle</td>\n",
       "      <td>female</td>\n",
       "      <td>35.0</td>\n",
       "      <td>1</td>\n",
       "      <td>0</td>\n",
       "      <td>53.1000</td>\n",
       "    </tr>\n",
       "    <tr>\n",
       "      <th>4</th>\n",
       "      <td>0</td>\n",
       "      <td>3</td>\n",
       "      <td>Mr. William Henry Allen</td>\n",
       "      <td>male</td>\n",
       "      <td>35.0</td>\n",
       "      <td>0</td>\n",
       "      <td>0</td>\n",
       "      <td>8.0500</td>\n",
       "    </tr>\n",
       "  </tbody>\n",
       "</table>\n",
       "</div>"
      ],
      "text/plain": [
       "   Survived  Pclass                                               Name  \\\n",
       "0         0       3                             Mr. Owen Harris Braund   \n",
       "1         1       1  Mrs. John Bradley (Florence Briggs Thayer) Cum...   \n",
       "2         1       3                              Miss. Laina Heikkinen   \n",
       "3         1       1        Mrs. Jacques Heath (Lily May Peel) Futrelle   \n",
       "4         0       3                            Mr. William Henry Allen   \n",
       "\n",
       "      Sex   Age  Siblings/Spouses Aboard  Parents/Children Aboard     Fare  \n",
       "0    male  22.0                        1                        0   7.2500  \n",
       "1  female  38.0                        1                        0  71.2833  \n",
       "2  female  26.0                        0                        0   7.9250  \n",
       "3  female  35.0                        1                        0  53.1000  \n",
       "4    male  35.0                        0                        0   8.0500  "
      ]
     },
     "execution_count": 23,
     "metadata": {},
     "output_type": "execute_result"
    }
   ],
   "source": [
    "df = pd.read_csv('titanic.csv')\n",
    "df.head()"
   ]
  },
  {
   "cell_type": "code",
   "execution_count": 24,
   "id": "16e1dd51-4ff4-4cc3-bef0-ee6fa53cfe7f",
   "metadata": {},
   "outputs": [
    {
     "data": {
      "text/plain": [
       "(887, 8)"
      ]
     },
     "execution_count": 24,
     "metadata": {},
     "output_type": "execute_result"
    }
   ],
   "source": [
    "df.shape"
   ]
  },
  {
   "cell_type": "code",
   "execution_count": 25,
   "id": "34080040-3da0-4082-a240-5a82be8dd79e",
   "metadata": {},
   "outputs": [
    {
     "name": "stdout",
     "output_type": "stream",
     "text": [
      "<class 'pandas.core.frame.DataFrame'>\n",
      "RangeIndex: 887 entries, 0 to 886\n",
      "Data columns (total 8 columns):\n",
      " #   Column                   Non-Null Count  Dtype  \n",
      "---  ------                   --------------  -----  \n",
      " 0   Survived                 887 non-null    int64  \n",
      " 1   Pclass                   887 non-null    int64  \n",
      " 2   Name                     887 non-null    object \n",
      " 3   Sex                      887 non-null    object \n",
      " 4   Age                      887 non-null    float64\n",
      " 5   Siblings/Spouses Aboard  887 non-null    int64  \n",
      " 6   Parents/Children Aboard  887 non-null    int64  \n",
      " 7   Fare                     887 non-null    float64\n",
      "dtypes: float64(2), int64(4), object(2)\n",
      "memory usage: 55.6+ KB\n"
     ]
    }
   ],
   "source": [
    "df.info()"
   ]
  },
  {
   "cell_type": "code",
   "execution_count": 26,
   "id": "e0854840-5a15-4c53-951c-6a20c633ce50",
   "metadata": {},
   "outputs": [
    {
     "data": {
      "text/plain": [
       "Survived                   0\n",
       "Pclass                     0\n",
       "Name                       0\n",
       "Sex                        0\n",
       "Age                        0\n",
       "Siblings/Spouses Aboard    0\n",
       "Parents/Children Aboard    0\n",
       "Fare                       0\n",
       "dtype: int64"
      ]
     },
     "execution_count": 26,
     "metadata": {},
     "output_type": "execute_result"
    }
   ],
   "source": [
    "df.isnull().sum().sort_values()"
   ]
  },
  {
   "cell_type": "code",
   "execution_count": 27,
   "id": "e813897f-9c7f-4b2e-95e8-59c91e8e8c71",
   "metadata": {},
   "outputs": [
    {
     "name": "stdout",
     "output_type": "stream",
     "text": [
      "Précis° du mdèle sur l'ensble de test : 0.6348\n"
     ]
    }
   ],
   "source": [
    "# Sélectionne les features (X) et la cible (y) :\n",
    "X = df[['Pclass', 'Age', 'Siblings/Spouses Aboard', 'Parents/Children Aboard', 'Fare']]\n",
    "y = df['Survived']\n",
    "\n",
    "# Normalise les données :\n",
    "scaler = StandardScaler()\n",
    "X_scaled = scaler.fit_transform(X)\n",
    "\n",
    "# Divise les données en ensbles d'entraînemt et de test :\n",
    "X_train, X_test, y_train, y_test = train_test_split(X_scaled, y, test_size=0.2, random_state=42)\n",
    "\n",
    "# Entraîne le mdèle DecisionTreeClassifier :\n",
    "dt_classifier = DecisionTreeClassifier(random_state=42)\n",
    "dt_classifier.fit(X_train, y_train)\n",
    "\n",
    "# Prédict° sur l'ensble de test :\n",
    "y_pred = dt_classifier.predict(X_test)\n",
    "\n",
    "# Calcule et affiche l'accuracy score :\n",
    "test_accuracy = accuracy_score(y_test, y_pred)\n",
    "print(f\"Précis° du mdèle sur l'ensble de test : {test_accuracy:.4f}\")"
   ]
  },
  {
   "cell_type": "code",
   "execution_count": 28,
   "id": "9e2c0d5c-3d65-4ce2-8cc1-993b4aa5eb6d",
   "metadata": {},
   "outputs": [
    {
     "name": "stdout",
     "output_type": "stream",
     "text": [
      "Meilleurs paramètres trouvés par GridSearch : {'max_depth': 4, 'min_samples_leaf': 1, 'min_samples_split': 2}\n",
      "Précis° du mdèle optimisé sur l'ensble de test : 0.6966\n"
     ]
    },
    {
     "name": "stderr",
     "output_type": "stream",
     "text": [
      "C:\\Users\\sebla\\anaconda3\\Lib\\site-packages\\numpy\\ma\\core.py:2820: RuntimeWarning: invalid value encountered in cast\n",
      "  _data = np.array(data, dtype=dtype, copy=copy,\n"
     ]
    }
   ],
   "source": [
    "# GridSearch pr optimisat° des hyperpramètres :\n",
    "# Défini la grille des hyperpramètres :\n",
    "param_grid = {\n",
    "# de 1 à 50 pr max_depth :\n",
    "    'max_depth': list(range(1, 51)),\n",
    "# de 1 à 15 pour min_samples_leaf :\n",
    "    'min_samples_leaf': list(range(1, 16)),\n",
    "# vleurs spé pr min_samples_split :\n",
    "    'min_samples_split': [2, 5, 7, 10, 15, 30]  \n",
    "}\n",
    "\n",
    "# Initialise GridSearchCV avec le classifieur DecisionTreeClassifier :\n",
    "grid_search = GridSearchCV(estimator=dt_classifier, param_grid=param_grid, cv=5, scoring='accuracy', n_jobs=-1)\n",
    "\n",
    "# Effectue la rcherche sur la grille :\n",
    "grid_search.fit(X_train, y_train)\n",
    "\n",
    "# Affiche les meilleurs pramètres trvés :\n",
    "print(f\"Meilleurs paramètres trouvés par GridSearch : {grid_search.best_params_}\")\n",
    "\n",
    "# Évalue le mdèle optimisé sur l'ensble de test :\n",
    "best_model = grid_search.best_estimator_\n",
    "y_pred_optimized = best_model.predict(X_test)\n",
    "\n",
    "# Calcule et affiche l'accuracy score du mdèle optimisé sur le jeu de test :\n",
    "optimized_test_accuracy = accuracy_score(y_test, y_pred_optimized)\n",
    "print(f\"Précis° du mdèle optimisé sur l'ensble de test : {optimized_test_accuracy:.4f}\")"
   ]
  },
  {
   "cell_type": "code",
   "execution_count": 29,
   "id": "ac0d6416-3fce-4b8f-9276-f458a688d473",
   "metadata": {},
   "outputs": [],
   "source": [
    "# Les meilleurs valeurs que définit GridSearch st : 4, 1 et 2."
   ]
  },
  {
   "cell_type": "code",
   "execution_count": 37,
   "id": "bbb37496-5e72-4b4c-a8c7-8cf59d6a8f3e",
   "metadata": {},
   "outputs": [
    {
     "name": "stdout",
     "output_type": "stream",
     "text": [
      "Meilleurs pramètres trvés par RandomizedSearch : {'max_depth': 5, 'min_samples_leaf': 5, 'min_samples_split': 7}\n",
      "Précis° du mdèle optimisé sur l'ensble de test (RandomSearch) : 0.7022\n"
     ]
    },
    {
     "name": "stderr",
     "output_type": "stream",
     "text": [
      "C:\\Users\\sebla\\anaconda3\\Lib\\site-packages\\numpy\\ma\\core.py:2820: RuntimeWarning: invalid value encountered in cast\n",
      "  _data = np.array(data, dtype=dtype, copy=copy,\n"
     ]
    }
   ],
   "source": [
    "# Définis l'espace des hyperpramètres pr RandomizedSearch :\n",
    "param_dist = {\n",
    "# de 1 à 50 pr max_depth\n",
    "    'max_depth': randint(1, 51),  \n",
    "# de 1 à 15 pr min_samples_leaf\n",
    "    'min_samples_leaf': randint(1, 16),  \n",
    "# vleurs spéc pr min_samples_split\n",
    "    'min_samples_split': [2, 5, 7, 10, 15, 30]  \n",
    "}\n",
    "# Initialise RandomizedSearchCV avec 200 itérat° et 5 plis pr la validat° croisée :\n",
    "random_search = RandomizedSearchCV(estimator=dt_classifier, param_distributions=param_dist, \n",
    "                                   n_iter=200, cv=5, scoring='accuracy', random_state=42, n_jobs=-1)\n",
    "\n",
    "# Effectue la rcherche aléatoire :\n",
    "random_search.fit(X_train, y_train)\n",
    "\n",
    "# Affiche les meilleurs pramètres trvés par RandomizedSearchCV :\n",
    "print(f\"Meilleurs pramètres trvés par RandomizedSearch : {random_search.best_params_}\")\n",
    "\n",
    "# Évalue le mdèle optimisé sur l'ensble de test :\n",
    "best_model_random = random_search.best_estimator_\n",
    "y_pred_random = best_model_random.predict(X_test)\n",
    "\n",
    "# Calcule et affiche l'accuracy score du mdèle optimisé sur le jeu de test :\n",
    "optimized_test_accuracy_random = accuracy_score(y_test, y_pred_random)\n",
    "print(f\"Précis° du mdèle optimisé sur l'ensble de test (RandomSearch) : {optimized_test_accuracy_random:.4f}\")"
   ]
  },
  {
   "cell_type": "code",
   "execution_count": null,
   "id": "f6db4b41-f9ed-4164-a825-e6f6d1767aa5",
   "metadata": {},
   "outputs": [],
   "source": [
    "# Avec RandomSearch, les meilleures vleurs des hyperpramètres sont : 5, 5, 7."
   ]
  }
 ],
 "metadata": {
  "kernelspec": {
   "display_name": "Python 3 (ipykernel)",
   "language": "python",
   "name": "python3"
  },
  "language_info": {
   "codemirror_mode": {
    "name": "ipython",
    "version": 3
   },
   "file_extension": ".py",
   "mimetype": "text/x-python",
   "name": "python",
   "nbconvert_exporter": "python",
   "pygments_lexer": "ipython3",
   "version": "3.12.3"
  }
 },
 "nbformat": 4,
 "nbformat_minor": 5
}
